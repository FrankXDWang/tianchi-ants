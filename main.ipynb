{
 "cells": [
  {
   "cell_type": "code",
   "execution_count": 1,
   "metadata": {
    "collapsed": false
   },
   "outputs": [],
   "source": [
    "#coding=utf-8\n",
    "import pandas as pd\n",
    "from math import *"
   ]
  },
  {
   "cell_type": "code",
   "execution_count": 2,
   "metadata": {
    "collapsed": false
   },
   "outputs": [],
   "source": [
    "shop = pd.read_csv('../ants_data/训练数据-ccf_first_round_shop_info.csv')\n",
    "train = pd.read_csv('../ants_data/训练数据-ccf_first_round_user_shop_behavior.csv')\n",
    "test = pd.read_csv('../ants_data/AB榜测试集-evaluation_public.csv')"
   ]
  },
  {
   "cell_type": "code",
   "execution_count": null,
   "metadata": {
    "collapsed": false
   },
   "outputs": [],
   "source": [
    "def haversine(lon1, lat1, lon2, lat2): # 经度1，纬度1，经度2，纬度2 （十进制度数）  \n",
    "    \"\"\" \n",
    "    Calculate the great circle distance between two points  \n",
    "    on the earth (specified in decimal degrees) \n",
    "    \"\"\"  \n",
    "    lon1, lat1, lon2, lat2 = map(radians, [lon1, lat1, lon2, lat2])  \n",
    "    dlon = lon2 - lon1   \n",
    "    dlat = lat2 - lat1   \n",
    "    a = sin(dlat/2)**2 + cos(lat1) * cos(lat2) * sin(dlon/2)**2  \n",
    "    c = 2 * asin(sqrt(a))   \n",
    "    r = 6371 \n",
    "    return c * r * 1000"
   ]
  },
  {
   "cell_type": "code",
   "execution_count": null,
   "metadata": {
    "collapsed": false
   },
   "outputs": [],
   "source": [
    "def calcDistance(Lat_A, Lng_A, Lat_B, Lng_B):\n",
    "    \"\"\"\n",
    "        # input Lat_A 纬度A\n",
    "        # input Lng_A 经度A\n",
    "        # input Lat_B 纬度B\n",
    "        # input Lng_B 经度B\n",
    "        # output distance 距离(km)\n",
    "    \"\"\"\n",
    "    ra = 6378.140  # 赤道半径 (km)\n",
    "    rb = 6356.755  # 极半径 (km)\n",
    "    flatten = (ra - rb) / ra  # 地球扁率\n",
    "    rad_lat_A, rad_lng_A, rad_lat_B, rad_lng_B = map(radians, [Lat_A, Lng_A, Lat_B, Lng_B])  \n",
    "    pA = atan(rb / ra * tan(rad_lat_A))\n",
    "    pB = atan(rb / ra * tan(rad_lat_B))\n",
    "    xx = acos(sin(pA) * sin(pB) + cos(pA) * cos(pB) * cos(rad_lng_A - rad_lng_B))\n",
    "    print('pA',Lng_A,Lat_A,'pB',Lat_B,Lng_B)\n",
    "    c1 = (sin(xx) - xx) * (sin(pA) + sin(pB)) ** 2 / cos(xx / 2) ** 2\n",
    "    c2 = (sin(xx) + xx) * (sin(pA) - sin(pB)) ** 2 / sin(xx / 2) ** 2\n",
    "    dr = flatten / 8 * (c1 - c2)\n",
    "    distance = ra * (xx + dr)\n",
    "    return distance"
   ]
  },
  {
   "cell_type": "code",
   "execution_count": null,
   "metadata": {
    "collapsed": false
   },
   "outputs": [],
   "source": [
    "Lat_A=32.060255; Lng_A=118.796877\n",
    "Lat_B=39.904211; Lng_B=116.407395\n",
    "distance=calcDistance(Lat_A,Lng_A,Lat_B,Lng_B)\n",
    "print('(Lat_A, Lng_A)=({0:10.3f},{1:10.3f})'.format(Lat_A,Lng_A))\n",
    "print('(Lat_B, Lng_B)=({0:10.3f},{1:10.3f})'.format(Lat_B,Lng_B))\n",
    "print('Distance={0:10.3f} km'.format(distance))"
   ]
  },
  {
   "cell_type": "code",
   "execution_count": null,
   "metadata": {
    "collapsed": true
   },
   "outputs": [],
   "source": [
    "def get_nearest_shop_id(longitude, latitude, shop_ids_by_mall_id):\n",
    "    #map_data = map(lambda lat, lng: calcDistance(lat, lng, latitude, longitude), shop_ids_by_mall_id['latitude'], shop_ids_by_mall_id['longitude'])\n",
    "    map_data = map(lambda lng, lat: haversine(lng, lat, longitude, latitude), shop_ids_by_mall_id['longitude'], shop_ids_by_mall_id['latitude'])\n",
    "    data = list(map_data)\n",
    "    shop_ids_by_mall_id = shop_ids_by_mall_id.reset_index(drop=True)\n",
    "    return min(data),shop_ids_by_mall_id.ix[data.index(min(data))]['shop_id']"
   ]
  },
  {
   "cell_type": "code",
   "execution_count": null,
   "metadata": {
    "collapsed": false
   },
   "outputs": [],
   "source": [
    "test['shop_id']='s_xxx'\n",
    "n_samples = test.shape[0]\n",
    "for i in range(n_samples):\n",
    "    mall_id = test.ix[i]['mall_id']\n",
    "    shop_ids_by_mall_id = shop[shop.mall_id == mall_id]\n",
    "    min_dist, nn_shop_id = get_nearest_shop_id(test.ix[i]['longitude'], test.ix[i]['latitude'], shop_ids_by_mall_id)\n",
    "    test.loc[i,'shop_id']= nn_shop_id\n",
    "    print (\"sample_num: \", i, \"min_dist:\", min_dist, \" shop_id:\", test.ix[i]['shop_id'])\n",
    "test.ix[:,['row_id','shop_id']].to_csv(\"results.csv\",index=False)"
   ]
  },
  {
   "cell_type": "code",
   "execution_count": null,
   "metadata": {
    "collapsed": false
   },
   "outputs": [],
   "source": [
    "test.ix[0]"
   ]
  },
  {
   "cell_type": "code",
   "execution_count": null,
   "metadata": {
    "collapsed": false
   },
   "outputs": [],
   "source": [
    "train.ix[1]['wifi_infos'].split(';')"
   ]
  },
  {
   "cell_type": "code",
   "execution_count": 8,
   "metadata": {
    "collapsed": false
   },
   "outputs": [
    {
     "data": {
      "text/plain": [
       "Index(['user_id', 'shop_id', 'time_stamp', 'longitude', 'latitude',\n",
       "       'wifi_infos'],\n",
       "      dtype='object')"
      ]
     },
     "execution_count": 8,
     "metadata": {},
     "output_type": "execute_result"
    }
   ],
   "source": [
    "train.columns"
   ]
  },
  {
   "cell_type": "code",
   "execution_count": null,
   "metadata": {
    "collapsed": false
   },
   "outputs": [
    {
     "name": "stdout",
     "output_type": "stream",
     "text": [
      "Index(['shop_id', 'category_id', 'longitude', 'latitude', 'price', 'mall_id',\n",
      "       'wifi_infos'],\n",
      "      dtype='object')\n",
      "71\n"
     ]
    }
   ],
   "source": [
    "test['shop_id']='s_xxx'\n",
    "n_samples = test.shape[0]\n",
    "for i in range(n_samples):\n",
    "    mall_id = test.ix[i]['mall_id']\n",
    "    shop_ids_by_mall_id = shop[shop.mall_id == mall_id]\n",
    "    data_with_mall_id = pd.merge(shop_ids_by_mall_id, train.ix[:,['wifi_infos','shop_id']],on='shop_id')\n",
    "    print(data_with_mall_id.columns)\n",
    "    \n",
    "    # get the number of classes\n",
    "    n_classes = len(data_with_mall_id.ix[:,'shop_id'].unique())\n",
    "    print(n_classes)\n",
    "    _n_samples = data_with_mall_id.shape[0]\n",
    "    # get the columns of samples\n",
    "    wifis = set()\n",
    "    for wifi in data_with_mall_id.ix[:,'wifi_infos']:\n",
    "        for _wifi in wifi.split(';'):\n",
    "            wifis.add(_wifi.split('|')[0])\n",
    "    \n",
    "    # add more features into wifis here\n",
    "    new_X = pd.DataFrame(columns=list(wifis))\n",
    "    new_Y = list()\n",
    "    for i in range(_n_samples):\n",
    "            shop_id = data_with_mall_id.ix[i]['shop_id']\n",
    "            new_Y.append(shop_id)\n",
    "            wifi_infos = data_with_mall_id.ix[i]['wifi_infos'].split(';')\n",
    "            for wifi in wifi_infos:\n",
    "                _wifi = wifi.split('|')\n",
    "                new_X.loc[i, _wifi[0]]=_wifi[1]\n",
    "    print(new_X.shape)\n",
    "    break\n",
    "    "
   ]
  },
  {
   "cell_type": "code",
   "execution_count": null,
   "metadata": {
    "collapsed": false
   },
   "outputs": [],
   "source": [
    "print(train.ix[train.shop_id == 's_31612'].shape)"
   ]
  },
  {
   "cell_type": "code",
   "execution_count": 33,
   "metadata": {
    "collapsed": false
   },
   "outputs": [
    {
     "data": {
      "text/plain": [
       "'b_34366982|-82|false;b_37756289|-53|false;b_4162269|-84|false;b_34366190|-84|false;b_32418144|-55|false;b_54617025|-64|false;b_23496315|-79|false;b_28978909|-62|false;b_21518966|-68|false;b_13748229|-72|false'"
      ]
     },
     "execution_count": 33,
     "metadata": {},
     "output_type": "execute_result"
    }
   ],
   "source": [
    "test.ix[0]['wifi_infos']"
   ]
  },
  {
   "cell_type": "code",
   "execution_count": null,
   "metadata": {
    "collapsed": true
   },
   "outputs": [],
   "source": []
  }
 ],
 "metadata": {
  "kernelspec": {
   "display_name": "Python 3",
   "language": "python",
   "name": "python3"
  },
  "language_info": {
   "codemirror_mode": {
    "name": "ipython",
    "version": 3
   },
   "file_extension": ".py",
   "mimetype": "text/x-python",
   "name": "python",
   "nbconvert_exporter": "python",
   "pygments_lexer": "ipython3",
   "version": "3.6.1"
  }
 },
 "nbformat": 4,
 "nbformat_minor": 0
}
