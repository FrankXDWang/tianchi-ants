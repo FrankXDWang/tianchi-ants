{
 "cells": [
  {
   "cell_type": "code",
   "execution_count": 1,
   "metadata": {
    "collapsed": false
   },
   "outputs": [],
   "source": [
    "#coding=utf-8\n",
    "import pandas as pd\n",
    "from math import *"
   ]
  },
  {
   "cell_type": "code",
   "execution_count": 5,
   "metadata": {
    "collapsed": false
   },
   "outputs": [],
   "source": [
    "shop = pd.read_csv('../ants_data/训练数据-ccf_first_round_shop_info.csv')\n",
    "train = pd.read_csv('../ants_data/训练数据-ccf_first_round_user_shop_behavior.csv')\n",
    "test = pd.read_csv('../ants_data/AB榜测试集-evaluation_public.csv')"
   ]
  },
  {
   "cell_type": "code",
   "execution_count": 16,
   "metadata": {
    "collapsed": false
   },
   "outputs": [
    {
     "name": "stdout",
     "output_type": "stream",
     "text": [
      "['m_690', 'm_6587', 'm_5892', 'm_625', 'm_3839', 'm_3739', 'm_1293', 'm_1175', 'm_2182', 'm_2058', 'm_3871', 'm_3005', 'm_822', 'm_2467', 'm_4406', 'm_909', 'm_4923', 'm_2224', 'm_2333', 'm_4079', 'm_5085', 'm_2415', 'm_4543', 'm_7168', 'm_2123', 'm_4572', 'm_1790', 'm_3313', 'm_4459', 'm_1409', 'm_979', 'm_7973', 'm_1375', 'm_4011', 'm_1831', 'm_4495', 'm_1085', 'm_3445', 'm_626', 'm_8093', 'm_4828', 'm_6167', 'm_3112', 'm_4341', 'm_622', 'm_4422', 'm_2267', 'm_615', 'm_4121', 'm_9054', 'm_4515', 'm_1950', 'm_3425', 'm_3501', 'm_4548', 'm_5352', 'm_3832', 'm_1377', 'm_1621', 'm_1263', 'm_2578', 'm_2270', 'm_968', 'm_1089', 'm_7374', 'm_2009', 'm_6337', 'm_7601', 'm_623', 'm_5154', 'm_5529', 'm_4168', 'm_3916', 'm_2878', 'm_9068', 'm_3528', 'm_4033', 'm_3019', 'm_1920', 'm_8344', 'm_6803', 'm_3054', 'm_8379', 'm_1021', 'm_2907', 'm_4094', 'm_4187', 'm_5076', 'm_3517', 'm_2715', 'm_5810', 'm_5767', 'm_4759', 'm_5825', 'm_7994', 'm_7523', 'm_7800']\n"
     ]
    }
   ],
   "source": [
    "print (list(shop.ix[:,'mall_id'].unique()))\n"
   ]
  },
  {
   "cell_type": "code",
   "execution_count": null,
   "metadata": {
    "collapsed": false
   },
   "outputs": [],
   "source": [
    "def haversine(lon1, lat1, lon2, lat2): # 经度1，纬度1，经度2，纬度2 （十进制度数）  \n",
    "    \"\"\" \n",
    "    Calculate the great circle distance between two points  \n",
    "    on the earth (specified in decimal degrees) \n",
    "    \"\"\"  \n",
    "    lon1, lat1, lon2, lat2 = map(radians, [lon1, lat1, lon2, lat2])  \n",
    "    dlon = lon2 - lon1   \n",
    "    dlat = lat2 - lat1   \n",
    "    a = sin(dlat/2)**2 + cos(lat1) * cos(lat2) * sin(dlon/2)**2  \n",
    "    c = 2 * asin(sqrt(a))   \n",
    "    r = 6371 \n",
    "    return c * r * 1000"
   ]
  },
  {
   "cell_type": "code",
   "execution_count": null,
   "metadata": {
    "collapsed": false
   },
   "outputs": [],
   "source": [
    "def calcDistance(Lat_A, Lng_A, Lat_B, Lng_B):\n",
    "    \"\"\"\n",
    "        # input Lat_A 纬度A\n",
    "        # input Lng_A 经度A\n",
    "        # input Lat_B 纬度B\n",
    "        # input Lng_B 经度B\n",
    "        # output distance 距离(km)\n",
    "    \"\"\"\n",
    "    ra = 6378.140  # 赤道半径 (km)\n",
    "    rb = 6356.755  # 极半径 (km)\n",
    "    flatten = (ra - rb) / ra  # 地球扁率\n",
    "    rad_lat_A, rad_lng_A, rad_lat_B, rad_lng_B = map(radians, [Lat_A, Lng_A, Lat_B, Lng_B])  \n",
    "    pA = atan(rb / ra * tan(rad_lat_A))\n",
    "    pB = atan(rb / ra * tan(rad_lat_B))\n",
    "    xx = acos(sin(pA) * sin(pB) + cos(pA) * cos(pB) * cos(rad_lng_A - rad_lng_B))\n",
    "    print('pA',Lng_A,Lat_A,'pB',Lat_B,Lng_B)\n",
    "    c1 = (sin(xx) - xx) * (sin(pA) + sin(pB)) ** 2 / cos(xx / 2) ** 2\n",
    "    c2 = (sin(xx) + xx) * (sin(pA) - sin(pB)) ** 2 / sin(xx / 2) ** 2\n",
    "    dr = flatten / 8 * (c1 - c2)\n",
    "    distance = ra * (xx + dr)\n",
    "    return distance"
   ]
  },
  {
   "cell_type": "code",
   "execution_count": null,
   "metadata": {
    "collapsed": false
   },
   "outputs": [],
   "source": [
    "Lat_A=32.060255; Lng_A=118.796877\n",
    "Lat_B=39.904211; Lng_B=116.407395\n",
    "distance=calcDistance(Lat_A,Lng_A,Lat_B,Lng_B)\n",
    "print('(Lat_A, Lng_A)=({0:10.3f},{1:10.3f})'.format(Lat_A,Lng_A))\n",
    "print('(Lat_B, Lng_B)=({0:10.3f},{1:10.3f})'.format(Lat_B,Lng_B))\n",
    "print('Distance={0:10.3f} km'.format(distance))"
   ]
  },
  {
   "cell_type": "code",
   "execution_count": null,
   "metadata": {
    "collapsed": true
   },
   "outputs": [],
   "source": [
    "def get_nearest_shop_id(longitude, latitude, shop_ids_by_mall_id):\n",
    "    #map_data = map(lambda lat, lng: calcDistance(lat, lng, latitude, longitude), shop_ids_by_mall_id['latitude'], shop_ids_by_mall_id['longitude'])\n",
    "    map_data = map(lambda lng, lat: haversine(lng, lat, longitude, latitude), shop_ids_by_mall_id['longitude'], shop_ids_by_mall_id['latitude'])\n",
    "    data = list(map_data)\n",
    "    shop_ids_by_mall_id = shop_ids_by_mall_id.reset_index(drop=True)\n",
    "    return min(data),shop_ids_by_mall_id.ix[data.index(min(data))]['shop_id']"
   ]
  },
  {
   "cell_type": "code",
   "execution_count": null,
   "metadata": {
    "collapsed": false
   },
   "outputs": [],
   "source": [
    "test['shop_id']='s_xxx'\n",
    "n_samples = test.shape[0]\n",
    "for i in range(n_samples):\n",
    "    mall_id = test.ix[i]['mall_id']\n",
    "    shop_ids_by_mall_id = shop[shop.mall_id == mall_id]\n",
    "    min_dist, nn_shop_id = get_nearest_shop_id(test.ix[i]['longitude'], test.ix[i]['latitude'], shop_ids_by_mall_id)\n",
    "    test.loc[i,'shop_id']= nn_shop_id\n",
    "    print (\"sample_num: \", i, \"min_dist:\", min_dist, \" shop_id:\", test.ix[i]['shop_id'])\n",
    "test.ix[:,['row_id','shop_id']].to_csv(\"results.csv\",index=False)"
   ]
  },
  {
   "cell_type": "code",
   "execution_count": 4,
   "metadata": {
    "collapsed": false
   },
   "outputs": [
    {
     "data": {
      "text/plain": [
       "Index(['shop_id', 'category_id', 'longitude', 'latitude', 'price', 'mall_id'], dtype='object')"
      ]
     },
     "execution_count": 4,
     "metadata": {},
     "output_type": "execute_result"
    }
   ],
   "source": [
    "shop.columns"
   ]
  },
  {
   "cell_type": "code",
   "execution_count": null,
   "metadata": {
    "collapsed": false
   },
   "outputs": [],
   "source": [
    "train.ix[1]['wifi_infos'].split(';')"
   ]
  },
  {
   "cell_type": "code",
   "execution_count": 8,
   "metadata": {
    "collapsed": false
   },
   "outputs": [
    {
     "data": {
      "text/plain": [
       "Index(['user_id', 'shop_id', 'time_stamp', 'longitude', 'latitude',\n",
       "       'wifi_infos'],\n",
       "      dtype='object')"
      ]
     },
     "execution_count": 8,
     "metadata": {},
     "output_type": "execute_result"
    }
   ],
   "source": [
    "train.columns"
   ]
  },
  {
   "cell_type": "code",
   "execution_count": 25,
   "metadata": {
    "collapsed": false
   },
   "outputs": [
    {
     "name": "stdout",
     "output_type": "stream",
     "text": [
      "Index(['shop_id', 'category_id', 'longitude', 'latitude', 'price', 'mall_id',\n",
      "       'wifi_infos'],\n",
      "      dtype='object')\n",
      "         shop_id category_id   longitude   latitude  price mall_id  \\\n",
      "0           s_26         c_4  122.346736  31.833507     57   m_690   \n",
      "1           s_26         c_4  122.346736  31.833507     57   m_690   \n",
      "2           s_26         c_4  122.346736  31.833507     57   m_690   \n",
      "3           s_26         c_4  122.346736  31.833507     57   m_690   \n",
      "4           s_26         c_4  122.346736  31.833507     57   m_690   \n",
      "5           s_26         c_4  122.346736  31.833507     57   m_690   \n",
      "6           s_26         c_4  122.346736  31.833507     57   m_690   \n",
      "7           s_26         c_4  122.346736  31.833507     57   m_690   \n",
      "8           s_26         c_4  122.346736  31.833507     57   m_690   \n",
      "9           s_26         c_4  122.346736  31.833507     57   m_690   \n",
      "10          s_26         c_4  122.346736  31.833507     57   m_690   \n",
      "11          s_26         c_4  122.346736  31.833507     57   m_690   \n",
      "12          s_26         c_4  122.346736  31.833507     57   m_690   \n",
      "13          s_26         c_4  122.346736  31.833507     57   m_690   \n",
      "14          s_26         c_4  122.346736  31.833507     57   m_690   \n",
      "15          s_26         c_4  122.346736  31.833507     57   m_690   \n",
      "16          s_26         c_4  122.346736  31.833507     57   m_690   \n",
      "17          s_26         c_4  122.346736  31.833507     57   m_690   \n",
      "18          s_26         c_4  122.346736  31.833507     57   m_690   \n",
      "19          s_26         c_4  122.346736  31.833507     57   m_690   \n",
      "20          s_26         c_4  122.346736  31.833507     57   m_690   \n",
      "21          s_26         c_4  122.346736  31.833507     57   m_690   \n",
      "22          s_26         c_4  122.346736  31.833507     57   m_690   \n",
      "23          s_26         c_4  122.346736  31.833507     57   m_690   \n",
      "24          s_26         c_4  122.346736  31.833507     57   m_690   \n",
      "25          s_26         c_4  122.346736  31.833507     57   m_690   \n",
      "26          s_26         c_4  122.346736  31.833507     57   m_690   \n",
      "27          s_26         c_4  122.346736  31.833507     57   m_690   \n",
      "28          s_26         c_4  122.346736  31.833507     57   m_690   \n",
      "29          s_26         c_4  122.346736  31.833507     57   m_690   \n",
      "...          ...         ...         ...        ...    ...     ...   \n",
      "26786  s_4000963        c_33  122.346435  31.834287     52   m_690   \n",
      "26787  s_4000963        c_33  122.346435  31.834287     52   m_690   \n",
      "26788  s_4000963        c_33  122.346435  31.834287     52   m_690   \n",
      "26789  s_4000963        c_33  122.346435  31.834287     52   m_690   \n",
      "26790  s_4000963        c_33  122.346435  31.834287     52   m_690   \n",
      "26791  s_4000963        c_33  122.346435  31.834287     52   m_690   \n",
      "26792  s_4000963        c_33  122.346435  31.834287     52   m_690   \n",
      "26793  s_4000963        c_33  122.346435  31.834287     52   m_690   \n",
      "26794  s_4000963        c_33  122.346435  31.834287     52   m_690   \n",
      "26795  s_4000963        c_33  122.346435  31.834287     52   m_690   \n",
      "26796  s_4000963        c_33  122.346435  31.834287     52   m_690   \n",
      "26797  s_4000963        c_33  122.346435  31.834287     52   m_690   \n",
      "26798  s_4000963        c_33  122.346435  31.834287     52   m_690   \n",
      "26799  s_4015771        c_33  122.346142  31.834813     52   m_690   \n",
      "26800  s_4015771        c_33  122.346142  31.834813     52   m_690   \n",
      "26801  s_4015771        c_33  122.346142  31.834813     52   m_690   \n",
      "26802  s_4015771        c_33  122.346142  31.834813     52   m_690   \n",
      "26803  s_4015771        c_33  122.346142  31.834813     52   m_690   \n",
      "26804  s_4015771        c_33  122.346142  31.834813     52   m_690   \n",
      "26805  s_4015771        c_33  122.346142  31.834813     52   m_690   \n",
      "26806  s_4015771        c_33  122.346142  31.834813     52   m_690   \n",
      "26807  s_4015771        c_33  122.346142  31.834813     52   m_690   \n",
      "26808  s_4015771        c_33  122.346142  31.834813     52   m_690   \n",
      "26809  s_4015771        c_33  122.346142  31.834813     52   m_690   \n",
      "26810  s_4015771        c_33  122.346142  31.834813     52   m_690   \n",
      "26811  s_4015771        c_33  122.346142  31.834813     52   m_690   \n",
      "26812  s_4015771        c_33  122.346142  31.834813     52   m_690   \n",
      "26813  s_4044487        c_49  122.348170  31.835397     61   m_690   \n",
      "26814  s_4044487        c_49  122.348170  31.835397     61   m_690   \n",
      "26815  s_4044487        c_49  122.348170  31.835397     61   m_690   \n",
      "\n",
      "                                              wifi_infos  \n",
      "0      b_49917612|-71|false;b_17045264|-74|false;b_53...  \n",
      "1      b_31905991|-37|false;b_53023346|-46|false;b_53...  \n",
      "2      b_49917612|-59|false;b_1064727|-59|false;b_530...  \n",
      "3      b_13587697|-59|false;b_53023346|-44|false;b_53...  \n",
      "4      b_32841208|-76|false;b_17045264|-73|false;b_41...  \n",
      "5      b_31905991|-40|false;b_4121880|-70|false;b_217...  \n",
      "6      b_31905991|-43|false;b_53049089|-57|false;b_13...  \n",
      "7      b_53023346|-61|false;b_11222972|-80|false;b_13...  \n",
      "8      b_53049089|-61|false;b_31905991|-36|false;b_13...  \n",
      "9      b_4121880|-69|false;b_13587699|-57|false;b_530...  \n",
      "10     b_53023346|-47|false;b_20274128|-50|false;b_32...  \n",
      "11     b_7446888|-47|false;b_53049089|-47|false;b_530...  \n",
      "12     b_49917612|-62|false;b_7446894|-73|false;b_135...  \n",
      "13     b_31905991|-38|false;b_56767296|-69|false;b_74...  \n",
      "14     b_13587699|-48|false;b_53023346|-53|false;b_64...  \n",
      "15     b_13587699|-59|false;b_53023346|-37|false;b_53...  \n",
      "16     b_32841208|-66|false;b_53049088|-52|false;b_17...  \n",
      "17     b_21769029|-61|false;b_56767296|-73|false;b_53...  \n",
      "18     b_4029409|-37|false;b_13587699|-64|false;b_319...  \n",
      "19     b_4121887|-77|false;b_13587699|-52|false;b_530...  \n",
      "20     b_31905991|-33|false;b_53023346|-46|true;b_412...  \n",
      "21     b_21769029|-72|false;b_53049088|-55|false;b_74...  \n",
      "22     b_13587705|-73|false;b_4121881|-56|false;b_530...  \n",
      "23     b_7446888|-53|true;b_7446887|-71|false;b_53023...  \n",
      "24     b_13587697|-67|false;b_53049088|-58|false;b_41...  \n",
      "25     b_31905991|-52|false;b_4121881|-51|false;b_530...  \n",
      "26     b_4121881|-63|false;b_4121880|-58|false;b_5304...  \n",
      "27     b_53023346|-36|true;b_32841208|-70|false;b_319...  \n",
      "28     b_53049088|-54|false;b_31905991|-37|false;b_41...  \n",
      "29     b_53049089|-51|false;b_50586584|-52|false;b_31...  \n",
      "...                                                  ...  \n",
      "26786  b_13587663|-67|false;b_14854603|-33|false;b_52...  \n",
      "26787  b_15584183|-55|false;b_7446860|-70|false;b_107...  \n",
      "26788  b_13587659|-64|false;b_52491626|-70|false;b_41...  \n",
      "26789  b_18700033|-62|false;b_39972870|-52|true;b_450...  \n",
      "26790  b_4121839|-61|false;b_15584183|-69|false;b_350...  \n",
      "26791  b_21320607|-67|false;b_39972870|-64|false;b_13...  \n",
      "26792  b_305615|-76|false;b_302640|-71|false;b_306582...  \n",
      "26793  b_26385547|-79|false;b_6389894|-81|false;b_307...  \n",
      "26794  b_6389894|-85|false;b_7093947|-86|false;b_1358...  \n",
      "26795  b_15584183|-66|false;b_13587667|-77|false;b_18...  \n",
      "26796  b_52491626|-69|false;b_13587659|-71|false;b_14...  \n",
      "26797  b_21173721|-82|false;b_11031062|-70|false;b_11...  \n",
      "26798  b_11658074|-82|false;b_13587663|-80|false;b_18...  \n",
      "26799  b_30711265|-63|false;b_48450752|-79|false;b_26...  \n",
      "26800  b_45410732|-59|false;b_29346003|-66|false;b_45...  \n",
      "26801  b_24476831|-51|false;b_24362364|-73|false;b_45...  \n",
      "26802  b_45410732|-59|false;b_39812126|-64|false;b_10...  \n",
      "26803  b_29346003|-68|false;b_26685377|-93|false;b_24...  \n",
      "26804  b_36579228|-77|false;b_9388830|-77|false;b_389...  \n",
      "26805  b_29346003|-76|false;b_23491489|-54|false;b_54...  \n",
      "26806  b_9388830|-72|false;b_50405897|-66|false;b_517...  \n",
      "26807  b_30711306|-82|false;b_26685631|-83|false;b_38...  \n",
      "26808  b_24362364|-76|false;b_45410732|-61|false;b_24...  \n",
      "26809  b_39720096|-80|false;b_44676883|-82|false;b_44...  \n",
      "26810  b_30711306|-80|false;b_30711265|-72|false;b_29...  \n",
      "26811  b_44676883|-74|false;b_18991224|-78|false;b_48...  \n",
      "26812  b_48450752|-77|false;b_39812126|-68|false;b_14...  \n",
      "26813  b_2978607|-79|false;b_8604796|-70|false;b_5751...  \n",
      "26814  b_43910718|-87|false;b_49868709|-79|false;b_14...  \n",
      "26815  b_1319795|-60|false;b_22856812|-69|false;b_351...  \n",
      "\n",
      "[26816 rows x 7 columns]\n"
     ]
    }
   ],
   "source": [
    "test['shop_id']='s_xxx'\n",
    "mall_ids = list( shop.ix[:,'mall_id'].unique() )\n",
    "for mall_id in mall_ids:\n",
    "        shop_ids_by_mall_id = shop[shop.mall_id == mall_id]\n",
    "        #print(shop_ids_by_mall_id)\n",
    "        data_with_mall_id = pd.merge(shop_ids_by_mall_id, train.ix[:,['wifi_infos','shop_id']],on='shop_id')\n",
    "        \n",
    "        # get the number of classes\n",
    "        n_classes = len(data_with_mall_id.ix[:,'shop_id'].unique())\n",
    "        print(n_classes)\n",
    "        _n_samples = data_with_mall_id.shape[0]\n",
    "        # get the columns of samples\n",
    "        wifis = set()\n",
    "        for wifi in data_with_mall_id.ix[:,'wifi_infos']:\n",
    "            for _wifi in wifi.split(';'):\n",
    "                wifis.add(_wifi.split('|')[0])\n",
    "        \n",
    "        # add more features into wifis here\n",
    "        new_X = pd.DataFrame(columns=list(wifis))\n",
    "        new_Y = list()\n",
    "        _n_samples = 10\n",
    "        for i in range(_n_samples):\n",
    "                shop_id = data_with_mall_id.ix[i]['shop_id']\n",
    "                new_Y.append(shop_id)\n",
    "                wifi_infos = data_with_mall_id.ix[i]['wifi_infos'].split(';')\n",
    "                for wifi in wifi_infos:\n",
    "                    _wifi = wifi.split('|')\n",
    "                    new_X.loc[i, _wifi[0]]=_wifi[1]\n",
    "        #print(new_X)\n",
    "        #print(new_Y)\n",
    "        # train model\n",
    "        # save model\n",
    "        break\n"
   ]
  },
  {
   "cell_type": "code",
   "execution_count": null,
   "metadata": {
    "collapsed": false
   },
   "outputs": [],
   "source": [
    "print(train.ix[train.shop_id == 's_31612'].shape)"
   ]
  },
  {
   "cell_type": "code",
   "execution_count": 33,
   "metadata": {
    "collapsed": false
   },
   "outputs": [
    {
     "data": {
      "text/plain": [
       "'b_34366982|-82|false;b_37756289|-53|false;b_4162269|-84|false;b_34366190|-84|false;b_32418144|-55|false;b_54617025|-64|false;b_23496315|-79|false;b_28978909|-62|false;b_21518966|-68|false;b_13748229|-72|false'"
      ]
     },
     "execution_count": 33,
     "metadata": {},
     "output_type": "execute_result"
    }
   ],
   "source": [
    "test.ix[0]['wifi_infos']"
   ]
  },
  {
   "cell_type": "code",
   "execution_count": null,
   "metadata": {
    "collapsed": true
   },
   "outputs": [],
   "source": []
  }
 ],
 "metadata": {
  "kernelspec": {
   "display_name": "Python 3",
   "language": "python",
   "name": "python3"
  },
  "language_info": {
   "codemirror_mode": {
    "name": "ipython",
    "version": 3
   },
   "file_extension": ".py",
   "mimetype": "text/x-python",
   "name": "python",
   "nbconvert_exporter": "python",
   "pygments_lexer": "ipython3",
   "version": "3.6.1"
  }
 },
 "nbformat": 4,
 "nbformat_minor": 0
}
