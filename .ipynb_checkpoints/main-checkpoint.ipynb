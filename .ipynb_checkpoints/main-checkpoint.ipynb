{
 "cells": [
  {
   "cell_type": "code",
   "execution_count": null,
   "metadata": {
    "collapsed": false
   },
   "outputs": [],
   "source": [
    "#coding=utf-8\n",
    "import pandas as pd\n",
    "from math import *\n",
    "import pickle"
   ]
  },
  {
   "cell_type": "code",
   "execution_count": null,
   "metadata": {
    "collapsed": false
   },
   "outputs": [],
   "source": [
    "shop = pd.read_csv('../ants_data/训练数据-ccf_first_round_shop_info.csv')\n",
    "train = pd.read_csv('../ants_data/训练数据-ccf_first_round_user_shop_behavior.csv')\n",
    "test = pd.read_csv('../ants_data/AB榜测试集-evaluation_public.csv')"
   ]
  },
  {
   "cell_type": "code",
   "execution_count": null,
   "metadata": {
    "collapsed": false
   },
   "outputs": [],
   "source": [
    "print (list(shop.ix[:,'mall_id'].unique()))"
   ]
  },
  {
   "cell_type": "code",
   "execution_count": null,
   "metadata": {
    "collapsed": false
   },
   "outputs": [],
   "source": [
    "def haversine(lon1, lat1, lon2, lat2): # 经度1，纬度1，经度2，纬度2 （十进制度数）  \n",
    "    \"\"\" \n",
    "    Calculate the great circle distance between two points  \n",
    "    on the earth (specified in decimal degrees) \n",
    "    \"\"\"  \n",
    "    lon1, lat1, lon2, lat2 = map(radians, [lon1, lat1, lon2, lat2])  \n",
    "    dlon = lon2 - lon1   \n",
    "    dlat = lat2 - lat1   \n",
    "    a = sin(dlat/2)**2 + cos(lat1) * cos(lat2) * sin(dlon/2)**2  \n",
    "    c = 2 * asin(sqrt(a))   \n",
    "    r = 6371 \n",
    "    return c * r * 1000"
   ]
  },
  {
   "cell_type": "code",
   "execution_count": null,
   "metadata": {
    "collapsed": false
   },
   "outputs": [],
   "source": [
    "def calcDistance(Lat_A, Lng_A, Lat_B, Lng_B):\n",
    "    \"\"\"\n",
    "        # input Lat_A 纬度A\n",
    "        # input Lng_A 经度A\n",
    "        # input Lat_B 纬度B\n",
    "        # input Lng_B 经度B\n",
    "        # output distance 距离(km)\n",
    "    \"\"\"\n",
    "    ra = 6378.140  # 赤道半径 (km)\n",
    "    rb = 6356.755  # 极半径 (km)\n",
    "    flatten = (ra - rb) / ra  # 地球扁率\n",
    "    rad_lat_A, rad_lng_A, rad_lat_B, rad_lng_B = map(radians, [Lat_A, Lng_A, Lat_B, Lng_B])  \n",
    "    pA = atan(rb / ra * tan(rad_lat_A))\n",
    "    pB = atan(rb / ra * tan(rad_lat_B))\n",
    "    xx = acos(sin(pA) * sin(pB) + cos(pA) * cos(pB) * cos(rad_lng_A - rad_lng_B))\n",
    "    print('pA',Lng_A,Lat_A,'pB',Lat_B,Lng_B)\n",
    "    c1 = (sin(xx) - xx) * (sin(pA) + sin(pB)) ** 2 / cos(xx / 2) ** 2\n",
    "    c2 = (sin(xx) + xx) * (sin(pA) - sin(pB)) ** 2 / sin(xx / 2) ** 2\n",
    "    dr = flatten / 8 * (c1 - c2)\n",
    "    distance = ra * (xx + dr)\n",
    "    return distance"
   ]
  },
  {
   "cell_type": "code",
   "execution_count": null,
   "metadata": {
    "collapsed": false
   },
   "outputs": [],
   "source": [
    "Lat_A=32.060255; Lng_A=118.796877\n",
    "Lat_B=39.904211; Lng_B=116.407395\n",
    "distance=calcDistance(Lat_A,Lng_A,Lat_B,Lng_B)\n",
    "print('(Lat_A, Lng_A)=({0:10.3f},{1:10.3f})'.format(Lat_A,Lng_A))\n",
    "print('(Lat_B, Lng_B)=({0:10.3f},{1:10.3f})'.format(Lat_B,Lng_B))\n",
    "print('Distance={0:10.3f} km'.format(distance))"
   ]
  },
  {
   "cell_type": "code",
   "execution_count": null,
   "metadata": {
    "collapsed": true
   },
   "outputs": [],
   "source": [
    "def get_nearest_shop_id(longitude, latitude, shop_ids_by_mall_id):\n",
    "    #map_data = map(lambda lat, lng: calcDistance(lat, lng, latitude, longitude), shop_ids_by_mall_id['latitude'], shop_ids_by_mall_id['longitude'])\n",
    "    map_data = map(lambda lng, lat: haversine(lng, lat, longitude, latitude), shop_ids_by_mall_id['longitude'], shop_ids_by_mall_id['latitude'])\n",
    "    data = list(map_data)\n",
    "    shop_ids_by_mall_id = shop_ids_by_mall_id.reset_index(drop=True)\n",
    "    return min(data),shop_ids_by_mall_id.ix[data.index(min(data))]['shop_id']"
   ]
  },
  {
   "cell_type": "code",
   "execution_count": null,
   "metadata": {
    "collapsed": false
   },
   "outputs": [],
   "source": [
    "test['shop_id']='s_xxx'\n",
    "n_samples = test.shape[0]\n",
    "for i in range(n_samples):\n",
    "    mall_id = test.ix[i]['mall_id']\n",
    "    shop_ids_by_mall_id = shop[shop.mall_id == mall_id]\n",
    "    min_dist, nn_shop_id = get_nearest_shop_id(test.ix[i]['longitude'], test.ix[i]['latitude'], shop_ids_by_mall_id)\n",
    "    test.loc[i,'shop_id']= nn_shop_id\n",
    "    print (\"sample_num: \", i, \"min_dist:\", min_dist, \" shop_id:\", test.ix[i]['shop_id'])\n",
    "test.ix[:,['row_id','shop_id']].to_csv(\"results.csv\",index=False)"
   ]
  },
  {
   "cell_type": "code",
   "execution_count": null,
   "metadata": {
    "collapsed": false
   },
   "outputs": [],
   "source": [
    "test['shop_id']='s_xxx'\n",
    "mall_ids = list( shop.ix[:,'mall_id'].unique() )\n",
    "for mall_id in mall_ids:\n",
    "        mall_id = 'm_5085'\n",
    "        shop_ids_by_mall_id = shop[shop.mall_id == mall_id]\n",
    "        \n",
    "        #print(shop_ids_by_mall_id)\n",
    "        data_with_mall_id = pd.merge(shop_ids_by_mall_id, train.ix[:,['wifi_infos','shop_id']],on='shop_id')\n",
    "        \n",
    "        # get all shops\n",
    "        shops = list(data_with_mall_id.ix[:,'shop_id'].unique())\n",
    "        \n",
    "        # get all wifis\n",
    "        wifis = set()\n",
    "        for wifi in data_with_mall_id.ix[:,'wifi_infos']:\n",
    "            for _wifi in wifi.split(';'):\n",
    "                wifis.add(_wifi.split('|')[0])\n",
    "        wifis = list(wifis)\n",
    "        print(len(wifis))\n",
    "        with open('data/'+str(mall_id)+'_shops.pkl','wb') as f:\n",
    "                pickle.dump(shops,f)\n",
    "        with open('data/'+str(mall_id)+'_wifis.pkl','wb') as f:\n",
    "                pickle.dump(wifis,f)\n",
    "                \n",
    "        with open('data/'+str(mall_id)+'_shops.pkl','rb') as f:\n",
    "                shops = pickle.load(f)\n",
    "                print(shops)\n",
    "        print(len(shops))\n",
    "        data_with_mall_id.drop(['category_id','longitude','latitude','price','mall_id'], axis=1, inplace=True)\n",
    "        \n",
    "        # add more features into wifis here\n",
    "        new_X = pd.DataFrame(columns=range(10))\n",
    "        new_Y = list()\n",
    "        _n_samples = data_with_mall_id.shape[0]\n",
    "        for i in range(_n_samples):\n",
    "            print(i,_n_samples)\n",
    "            shop_id = data_with_mall_id.ix[i]['shop_id']\n",
    "            new_Y.append(shops.index(shop_id))\n",
    "            wifi_infos = data_with_mall_id.ix[i]['wifi_infos'].split(';')\n",
    "            for j in range(len(wifi_infos)):\n",
    "                _wifi = wifi_infos[j].split('|')\n",
    "                new_X.at[i,j]=str(wifis.index(_wifi[0]))+':'+str(_wifi[1])\n",
    "        new_Y = pd.DataFrame(new_Y,columns=['shop_id'])\n",
    "        train_data_by_mall_id = pd.concat([new_Y, new_X], axis=1)\n",
    "        # shuffle samples\n",
    "        train_data_by_mall_id=train_data_by_mall_id.sample(frac=1)\n",
    "        train_data_by_mall_id.to_csv(\"data/\"+str(mall_id)+'.csv',index=False,header=None)\n",
    "        break"
   ]
  },
  {
   "cell_type": "code",
   "execution_count": null,
   "metadata": {
    "collapsed": false
   },
   "outputs": [],
   "source": [
    "import xgboost as xgb\n",
    "import numpy as np\n",
    "dtrain = xgb.DMatrix('data/m_5085.csv')\n",
    "num_class = dtrain.get_label().shape[0]\n",
    "params = {'max_depth':6,'num_class':num_class,'objective':'multi:softmax','silent':1}\n",
    "num_boost_round = 10\n",
    "model = xgb.train(params, dtrain, num_boost_round)\n"
   ]
  },
  {
   "cell_type": "code",
   "execution_count": null,
   "metadata": {
    "collapsed": true
   },
   "outputs": [],
   "source": []
  }
 ],
 "metadata": {
  "kernelspec": {
   "display_name": "Python 3",
   "language": "python",
   "name": "python3"
  },
  "language_info": {
   "codemirror_mode": {
    "name": "ipython",
    "version": 3
   },
   "file_extension": ".py",
   "mimetype": "text/x-python",
   "name": "python",
   "nbconvert_exporter": "python",
   "pygments_lexer": "ipython3",
   "version": "3.6.1"
  }
 },
 "nbformat": 4,
 "nbformat_minor": 0
}
